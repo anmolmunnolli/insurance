{
 "cells": [
  {
   "cell_type": "markdown",
   "id": "0949f93d",
   "metadata": {
    "papermill": {
     "duration": 0.005446,
     "end_time": "2024-12-23T04:45:14.412408",
     "exception": false,
     "start_time": "2024-12-23T04:45:14.406962",
     "status": "completed"
    },
    "tags": []
   },
   "source": [
    "# Submission - Inquisitive_Turtles"
   ]
  },
  {
   "cell_type": "code",
   "execution_count": 1,
   "id": "1119a0b2",
   "metadata": {
    "execution": {
     "iopub.execute_input": "2024-12-23T04:45:14.423709Z",
     "iopub.status.busy": "2024-12-23T04:45:14.423305Z",
     "iopub.status.idle": "2024-12-23T04:45:15.078246Z",
     "shell.execute_reply": "2024-12-23T04:45:15.076851Z"
    },
    "papermill": {
     "duration": 0.662921,
     "end_time": "2024-12-23T04:45:15.080399",
     "exception": false,
     "start_time": "2024-12-23T04:45:14.417478",
     "status": "completed"
    },
    "tags": []
   },
   "outputs": [
    {
     "name": "stdout",
     "output_type": "stream",
     "text": [
      "Path to dataset files: /kaggle/input/insurance-premium-prediction\n"
     ]
    }
   ],
   "source": [
    "import kagglehub\n",
    "path = kagglehub.dataset_download(\"schran/insurance-premium-prediction\")\n",
    "print(\"Path to dataset files:\", path)"
   ]
  },
  {
   "cell_type": "code",
   "execution_count": 2,
   "id": "b90e18ff",
   "metadata": {
    "execution": {
     "iopub.execute_input": "2024-12-23T04:45:15.091988Z",
     "iopub.status.busy": "2024-12-23T04:45:15.091618Z",
     "iopub.status.idle": "2024-12-23T04:45:16.954912Z",
     "shell.execute_reply": "2024-12-23T04:45:16.953791Z"
    },
    "papermill": {
     "duration": 1.871145,
     "end_time": "2024-12-23T04:45:16.956750",
     "exception": false,
     "start_time": "2024-12-23T04:45:15.085605",
     "status": "completed"
    },
    "tags": []
   },
   "outputs": [
    {
     "name": "stdout",
     "output_type": "stream",
     "text": [
      "Index(['Age', 'Gender', 'Annual Income', 'Marital Status',\n",
      "       'Number of Dependents', 'Education Level', 'Occupation', 'Health Score',\n",
      "       'Location', 'Policy Type', 'Previous Claims', 'Vehicle Age',\n",
      "       'Credit Score', 'Insurance Duration', 'Premium Amount',\n",
      "       'Policy Start Date', 'Customer Feedback', 'Smoking Status',\n",
      "       'Exercise Frequency', 'Property Type'],\n",
      "      dtype='object') Age                     float64\n",
      "Gender                   object\n",
      "Annual Income           float64\n",
      "Marital Status           object\n",
      "Number of Dependents    float64\n",
      "Education Level          object\n",
      "Occupation               object\n",
      "Health Score            float64\n",
      "Location                 object\n",
      "Policy Type              object\n",
      "Previous Claims         float64\n",
      "Vehicle Age               int64\n",
      "Credit Score            float64\n",
      "Insurance Duration        int64\n",
      "Premium Amount          float64\n",
      "Policy Start Date        object\n",
      "Customer Feedback        object\n",
      "Smoking Status           object\n",
      "Exercise Frequency       object\n",
      "Property Type            object\n",
      "dtype: object\n"
     ]
    }
   ],
   "source": [
    "import pandas as pd\n",
    "df = pd.read_csv('/kaggle/input/insurance-premium-prediction/Insurance Premium Prediction Dataset.csv')\n",
    "print(df.columns,df.dtypes)"
   ]
  },
  {
   "cell_type": "code",
   "execution_count": 3,
   "id": "2f17cb96",
   "metadata": {
    "execution": {
     "iopub.execute_input": "2024-12-23T04:45:16.968210Z",
     "iopub.status.busy": "2024-12-23T04:45:16.967867Z",
     "iopub.status.idle": "2024-12-23T04:45:17.155004Z",
     "shell.execute_reply": "2024-12-23T04:45:17.153731Z"
    },
    "papermill": {
     "duration": 0.194934,
     "end_time": "2024-12-23T04:45:17.156856",
     "exception": false,
     "start_time": "2024-12-23T04:45:16.961922",
     "status": "completed"
    },
    "tags": []
   },
   "outputs": [
    {
     "data": {
      "text/html": [
       "<div>\n",
       "<style scoped>\n",
       "    .dataframe tbody tr th:only-of-type {\n",
       "        vertical-align: middle;\n",
       "    }\n",
       "\n",
       "    .dataframe tbody tr th {\n",
       "        vertical-align: top;\n",
       "    }\n",
       "\n",
       "    .dataframe thead th {\n",
       "        text-align: right;\n",
       "    }\n",
       "</style>\n",
       "<table border=\"1\" class=\"dataframe\">\n",
       "  <thead>\n",
       "    <tr style=\"text-align: right;\">\n",
       "      <th></th>\n",
       "      <th>Age</th>\n",
       "      <th>Annual Income</th>\n",
       "      <th>Number of Dependents</th>\n",
       "      <th>Health Score</th>\n",
       "      <th>Previous Claims</th>\n",
       "      <th>Vehicle Age</th>\n",
       "      <th>Credit Score</th>\n",
       "      <th>Insurance Duration</th>\n",
       "      <th>Premium Amount</th>\n",
       "    </tr>\n",
       "  </thead>\n",
       "  <tbody>\n",
       "    <tr>\n",
       "      <th>count</th>\n",
       "      <td>274175.000000</td>\n",
       "      <td>264905.000000</td>\n",
       "      <td>250974.000000</td>\n",
       "      <td>268263.000000</td>\n",
       "      <td>197572.000000</td>\n",
       "      <td>278860.000000</td>\n",
       "      <td>250974.000000</td>\n",
       "      <td>278860.000000</td>\n",
       "      <td>277019.000000</td>\n",
       "    </tr>\n",
       "    <tr>\n",
       "      <th>mean</th>\n",
       "      <td>41.020771</td>\n",
       "      <td>42089.085329</td>\n",
       "      <td>1.998048</td>\n",
       "      <td>28.584290</td>\n",
       "      <td>0.998117</td>\n",
       "      <td>9.520283</td>\n",
       "      <td>574.362049</td>\n",
       "      <td>5.007764</td>\n",
       "      <td>966.118667</td>\n",
       "    </tr>\n",
       "    <tr>\n",
       "      <th>std</th>\n",
       "      <td>13.549683</td>\n",
       "      <td>35444.517255</td>\n",
       "      <td>1.412312</td>\n",
       "      <td>15.966208</td>\n",
       "      <td>1.000795</td>\n",
       "      <td>5.767915</td>\n",
       "      <td>158.792037</td>\n",
       "      <td>2.581349</td>\n",
       "      <td>909.404567</td>\n",
       "    </tr>\n",
       "    <tr>\n",
       "      <th>min</th>\n",
       "      <td>18.000000</td>\n",
       "      <td>0.000000</td>\n",
       "      <td>0.000000</td>\n",
       "      <td>0.035436</td>\n",
       "      <td>0.000000</td>\n",
       "      <td>0.000000</td>\n",
       "      <td>300.000000</td>\n",
       "      <td>1.000000</td>\n",
       "      <td>0.000000</td>\n",
       "    </tr>\n",
       "    <tr>\n",
       "      <th>25%</th>\n",
       "      <td>29.000000</td>\n",
       "      <td>13588.000000</td>\n",
       "      <td>1.000000</td>\n",
       "      <td>16.149890</td>\n",
       "      <td>0.000000</td>\n",
       "      <td>5.000000</td>\n",
       "      <td>437.000000</td>\n",
       "      <td>3.000000</td>\n",
       "      <td>286.000000</td>\n",
       "    </tr>\n",
       "    <tr>\n",
       "      <th>50%</th>\n",
       "      <td>41.000000</td>\n",
       "      <td>32191.000000</td>\n",
       "      <td>2.000000</td>\n",
       "      <td>26.451244</td>\n",
       "      <td>1.000000</td>\n",
       "      <td>10.000000</td>\n",
       "      <td>575.000000</td>\n",
       "      <td>5.000000</td>\n",
       "      <td>688.000000</td>\n",
       "    </tr>\n",
       "    <tr>\n",
       "      <th>75%</th>\n",
       "      <td>53.000000</td>\n",
       "      <td>62164.000000</td>\n",
       "      <td>3.000000</td>\n",
       "      <td>38.966369</td>\n",
       "      <td>2.000000</td>\n",
       "      <td>15.000000</td>\n",
       "      <td>712.000000</td>\n",
       "      <td>7.000000</td>\n",
       "      <td>1367.000000</td>\n",
       "    </tr>\n",
       "    <tr>\n",
       "      <th>max</th>\n",
       "      <td>64.000000</td>\n",
       "      <td>149997.000000</td>\n",
       "      <td>4.000000</td>\n",
       "      <td>93.876090</td>\n",
       "      <td>9.000000</td>\n",
       "      <td>19.000000</td>\n",
       "      <td>849.000000</td>\n",
       "      <td>9.000000</td>\n",
       "      <td>4999.000000</td>\n",
       "    </tr>\n",
       "  </tbody>\n",
       "</table>\n",
       "</div>"
      ],
      "text/plain": [
       "                 Age  Annual Income  Number of Dependents   Health Score  \\\n",
       "count  274175.000000  264905.000000         250974.000000  268263.000000   \n",
       "mean       41.020771   42089.085329              1.998048      28.584290   \n",
       "std        13.549683   35444.517255              1.412312      15.966208   \n",
       "min        18.000000       0.000000              0.000000       0.035436   \n",
       "25%        29.000000   13588.000000              1.000000      16.149890   \n",
       "50%        41.000000   32191.000000              2.000000      26.451244   \n",
       "75%        53.000000   62164.000000              3.000000      38.966369   \n",
       "max        64.000000  149997.000000              4.000000      93.876090   \n",
       "\n",
       "       Previous Claims    Vehicle Age   Credit Score  Insurance Duration  \\\n",
       "count    197572.000000  278860.000000  250974.000000       278860.000000   \n",
       "mean          0.998117       9.520283     574.362049            5.007764   \n",
       "std           1.000795       5.767915     158.792037            2.581349   \n",
       "min           0.000000       0.000000     300.000000            1.000000   \n",
       "25%           0.000000       5.000000     437.000000            3.000000   \n",
       "50%           1.000000      10.000000     575.000000            5.000000   \n",
       "75%           2.000000      15.000000     712.000000            7.000000   \n",
       "max           9.000000      19.000000     849.000000            9.000000   \n",
       "\n",
       "       Premium Amount  \n",
       "count   277019.000000  \n",
       "mean       966.118667  \n",
       "std        909.404567  \n",
       "min          0.000000  \n",
       "25%        286.000000  \n",
       "50%        688.000000  \n",
       "75%       1367.000000  \n",
       "max       4999.000000  "
      ]
     },
     "execution_count": 3,
     "metadata": {},
     "output_type": "execute_result"
    }
   ],
   "source": [
    "df.describe()"
   ]
  },
  {
   "cell_type": "code",
   "execution_count": 4,
   "id": "9bf7fa14",
   "metadata": {
    "execution": {
     "iopub.execute_input": "2024-12-23T04:45:17.169096Z",
     "iopub.status.busy": "2024-12-23T04:45:17.168690Z",
     "iopub.status.idle": "2024-12-23T04:45:17.317103Z",
     "shell.execute_reply": "2024-12-23T04:45:17.315850Z"
    },
    "papermill": {
     "duration": 0.156591,
     "end_time": "2024-12-23T04:45:17.319013",
     "exception": false,
     "start_time": "2024-12-23T04:45:17.162422",
     "status": "completed"
    },
    "tags": []
   },
   "outputs": [
    {
     "name": "stdout",
     "output_type": "stream",
     "text": [
      "Age                      4685\n",
      "Annual Income           13955\n",
      "Marital Status           5019\n",
      "Number of Dependents    27886\n",
      "Occupation              81288\n",
      "Health Score            10597\n",
      "Previous Claims         81288\n",
      "Credit Score            27886\n",
      "Premium Amount           1841\n",
      "Customer Feedback       18349\n",
      "dtype: int64\n"
     ]
    }
   ],
   "source": [
    "missing_values = df.isnull().sum()\n",
    "cols_with_missing = missing_values[missing_values > 0]\n",
    "print(cols_with_missing)"
   ]
  },
  {
   "cell_type": "markdown",
   "id": "53053452",
   "metadata": {
    "papermill": {
     "duration": 0.005201,
     "end_time": "2024-12-23T04:45:17.329513",
     "exception": false,
     "start_time": "2024-12-23T04:45:17.324312",
     "status": "completed"
    },
    "tags": []
   },
   "source": [
    "Getting rid of null values in target column"
   ]
  },
  {
   "cell_type": "code",
   "execution_count": 5,
   "id": "b0323c45",
   "metadata": {
    "execution": {
     "iopub.execute_input": "2024-12-23T04:45:17.341327Z",
     "iopub.status.busy": "2024-12-23T04:45:17.340992Z",
     "iopub.status.idle": "2024-12-23T04:45:17.392037Z",
     "shell.execute_reply": "2024-12-23T04:45:17.390875Z"
    },
    "papermill": {
     "duration": 0.059349,
     "end_time": "2024-12-23T04:45:17.394149",
     "exception": false,
     "start_time": "2024-12-23T04:45:17.334800",
     "status": "completed"
    },
    "tags": []
   },
   "outputs": [],
   "source": [
    "df = df.dropna(subset = 'Premium Amount')"
   ]
  },
  {
   "cell_type": "code",
   "execution_count": 6,
   "id": "26835062",
   "metadata": {
    "execution": {
     "iopub.execute_input": "2024-12-23T04:45:17.406277Z",
     "iopub.status.busy": "2024-12-23T04:45:17.405959Z",
     "iopub.status.idle": "2024-12-23T04:45:17.552278Z",
     "shell.execute_reply": "2024-12-23T04:45:17.551047Z"
    },
    "papermill": {
     "duration": 0.154404,
     "end_time": "2024-12-23T04:45:17.554146",
     "exception": false,
     "start_time": "2024-12-23T04:45:17.399742",
     "status": "completed"
    },
    "tags": []
   },
   "outputs": [
    {
     "name": "stdout",
     "output_type": "stream",
     "text": [
      "Age                      4658\n",
      "Annual Income           13851\n",
      "Marital Status           4991\n",
      "Number of Dependents    27689\n",
      "Occupation              80748\n",
      "Health Score            10525\n",
      "Previous Claims         80749\n",
      "Credit Score            27700\n",
      "Customer Feedback       18258\n",
      "dtype: int64\n"
     ]
    }
   ],
   "source": [
    "missing_values = df.isnull().sum()\n",
    "cols_with_missing = missing_values[missing_values > 0]\n",
    "print(cols_with_missing)"
   ]
  },
  {
   "cell_type": "code",
   "execution_count": 7,
   "id": "a54bc83b",
   "metadata": {
    "execution": {
     "iopub.execute_input": "2024-12-23T04:45:17.567231Z",
     "iopub.status.busy": "2024-12-23T04:45:17.566874Z",
     "iopub.status.idle": "2024-12-23T04:45:17.622191Z",
     "shell.execute_reply": "2024-12-23T04:45:17.620833Z"
    },
    "papermill": {
     "duration": 0.064366,
     "end_time": "2024-12-23T04:45:17.624331",
     "exception": false,
     "start_time": "2024-12-23T04:45:17.559965",
     "status": "completed"
    },
    "tags": []
   },
   "outputs": [
    {
     "name": "stdout",
     "output_type": "stream",
     "text": [
      "number of outliers:  117\n",
      "Original DataFrame with outliers: 196270\n",
      "DataFrame after removing outliers: 196153\n"
     ]
    }
   ],
   "source": [
    "Q1 = df['Previous Claims'].quantile(0.25)\n",
    "Q3 = df['Previous Claims'].quantile(0.75)\n",
    "IQR = Q3 - Q1\n",
    "\n",
    "lower_bound = Q1 - 1.5 * IQR\n",
    "upper_bound = Q3 + 1.5 * IQR\n",
    "\n",
    "df_cleaned = df[(df['Previous Claims'] >= lower_bound) & (df['Previous Claims'] <= upper_bound)]\n",
    "df_outliers = df[(df['Previous Claims'] < lower_bound) | (df['Previous Claims'] > upper_bound)]\n",
    "\n",
    "print('number of outliers: ',df_outliers['Previous Claims'].count())\n",
    "print(\"Original DataFrame with outliers:\",df['Previous Claims'].count())\n",
    "print(\"DataFrame after removing outliers:\",df_cleaned['Previous Claims'].count())"
   ]
  },
  {
   "cell_type": "code",
   "execution_count": 8,
   "id": "380cd512",
   "metadata": {
    "execution": {
     "iopub.execute_input": "2024-12-23T04:45:17.636744Z",
     "iopub.status.busy": "2024-12-23T04:45:17.636339Z",
     "iopub.status.idle": "2024-12-23T04:45:17.640601Z",
     "shell.execute_reply": "2024-12-23T04:45:17.639541Z"
    },
    "papermill": {
     "duration": 0.012312,
     "end_time": "2024-12-23T04:45:17.642291",
     "exception": false,
     "start_time": "2024-12-23T04:45:17.629979",
     "status": "completed"
    },
    "tags": []
   },
   "outputs": [],
   "source": [
    "mean_imputation_cols = ['Age','Number of Dependents','Credit Score','Credit Score']"
   ]
  },
  {
   "cell_type": "code",
   "execution_count": 9,
   "id": "52bec78d",
   "metadata": {
    "execution": {
     "iopub.execute_input": "2024-12-23T04:45:17.656754Z",
     "iopub.status.busy": "2024-12-23T04:45:17.656371Z",
     "iopub.status.idle": "2024-12-23T04:45:19.353465Z",
     "shell.execute_reply": "2024-12-23T04:45:19.352210Z"
    },
    "papermill": {
     "duration": 1.707577,
     "end_time": "2024-12-23T04:45:19.355514",
     "exception": false,
     "start_time": "2024-12-23T04:45:17.647937",
     "status": "completed"
    },
    "tags": []
   },
   "outputs": [
    {
     "name": "stdout",
     "output_type": "stream",
     "text": [
      "         Age  Gender  Annual Income Marital Status  Number of Dependents  \\\n",
      "2       32.0  Female        30154.0       Divorced                   3.0   \n",
      "3       60.0  Female        48371.0       Divorced                   0.0   \n",
      "5       38.0    Male        31769.0        Married                   1.0   \n",
      "6       56.0  Female        26209.0         Single                   1.0   \n",
      "7       36.0    Male         8762.0         Single                   3.0   \n",
      "...      ...     ...            ...            ...                   ...   \n",
      "278851  25.0  Female         4630.0       Divorced                   4.0   \n",
      "278852  47.0  Female        14001.0         Single                   0.0   \n",
      "278853  28.0  Female        74931.0        Married                   0.0   \n",
      "278854  63.0    Male        34311.0       Divorced                   0.0   \n",
      "278855  53.0    Male        22594.0       Divorced                   4.0   \n",
      "\n",
      "       Education Level     Occupation  Health Score  Location    Policy Type  \\\n",
      "2           Bachelor's            NaN     14.714909  Suburban  Comprehensive   \n",
      "3                  PhD  Self-Employed     25.346926     Rural  Comprehensive   \n",
      "5           Bachelor's       Employed     14.736611     Rural  Comprehensive   \n",
      "6             Master's       Employed     33.238300     Urban        Premium   \n",
      "7           Bachelor's            NaN     13.887880     Urban        Premium   \n",
      "...                ...            ...           ...       ...            ...   \n",
      "278851             PhD            NaN     18.764947     Rural        Premium   \n",
      "278852      Bachelor's     Unemployed     16.243456  Suburban        Premium   \n",
      "278853             PhD     Unemployed     25.658908     Urban          Basic   \n",
      "278854        Master's       Employed     28.778124     Urban        Premium   \n",
      "278855        Master's            NaN     24.455533  Suburban        Premium   \n",
      "\n",
      "        Previous Claims  Vehicle Age  Credit Score  Insurance Duration  \\\n",
      "2                   2.0           16         652.0                   8   \n",
      "3                   1.0           11         330.0                   7   \n",
      "5                   1.0            9         521.0                   7   \n",
      "6                   0.0           10         424.0                   5   \n",
      "7                   1.0           15         641.0                   9   \n",
      "...                 ...          ...           ...                 ...   \n",
      "278851              0.0           13         335.0                   7   \n",
      "278852              1.0            8         751.0                   3   \n",
      "278853              2.0            2         436.0                   5   \n",
      "278854              1.0           19         345.0                   7   \n",
      "278855              2.0            2         500.0                   8   \n",
      "\n",
      "        Premium Amount           Policy Start Date Customer Feedback  \\\n",
      "2                849.0  2023-11-26 15:21:39.078837              Poor   \n",
      "3                927.0  2023-02-27 15:21:39.078837              Poor   \n",
      "5               4016.0  2020-09-16 15:21:39.078837              Poor   \n",
      "6                828.0  2021-03-29 15:21:39.078837           Average   \n",
      "7               1678.0  2022-12-21 15:21:39.078837           Average   \n",
      "...                ...                         ...               ...   \n",
      "278851           508.0  2022-02-07 15:21:39.291118              Poor   \n",
      "278852           823.0  2021-10-07 15:21:39.291118              Poor   \n",
      "278853           799.0  2020-10-26 15:21:39.291118              Poor   \n",
      "278854           466.0  2023-08-14 15:21:39.291118           Average   \n",
      "278855           367.0  2022-04-26 15:21:39.291118               NaN   \n",
      "\n",
      "       Smoking Status Exercise Frequency Property Type  \n",
      "2                  No            Monthly         House  \n",
      "3                  No             Rarely         Condo  \n",
      "5                 Yes              Daily         House  \n",
      "6                 Yes            Monthly         Condo  \n",
      "7                 Yes             Weekly         Condo  \n",
      "...               ...                ...           ...  \n",
      "278851            Yes             Rarely     Apartment  \n",
      "278852             No             Rarely         Condo  \n",
      "278853            Yes             Rarely     Apartment  \n",
      "278854             No            Monthly         Condo  \n",
      "278855            Yes              Daily     Apartment  \n",
      "\n",
      "[196153 rows x 20 columns]\n"
     ]
    },
    {
     "name": "stderr",
     "output_type": "stream",
     "text": [
      "<ipython-input-9-a269f45f3bbf>:7: SettingWithCopyWarning: \n",
      "A value is trying to be set on a copy of a slice from a DataFrame.\n",
      "Try using .loc[row_indexer,col_indexer] = value instead\n",
      "\n",
      "See the caveats in the documentation: https://pandas.pydata.org/pandas-docs/stable/user_guide/indexing.html#returning-a-view-versus-a-copy\n",
      "  df_cleaned[mean_imputation_cols]= imputer.fit_transform(df_cleaned[mean_imputation_cols])\n"
     ]
    }
   ],
   "source": [
    "import numpy as np\n",
    "import pandas as pd\n",
    "from sklearn.impute import SimpleImputer\n",
    "\n",
    "imputer = SimpleImputer(strategy='mean')\n",
    "\n",
    "df_cleaned[mean_imputation_cols]= imputer.fit_transform(df_cleaned[mean_imputation_cols])\n",
    "print(df_cleaned)\n",
    "\n"
   ]
  },
  {
   "cell_type": "code",
   "execution_count": 10,
   "id": "26de6be6",
   "metadata": {
    "execution": {
     "iopub.execute_input": "2024-12-23T04:45:19.368488Z",
     "iopub.status.busy": "2024-12-23T04:45:19.368035Z",
     "iopub.status.idle": "2024-12-23T04:45:19.476424Z",
     "shell.execute_reply": "2024-12-23T04:45:19.475241Z"
    },
    "papermill": {
     "duration": 0.11681,
     "end_time": "2024-12-23T04:45:19.478155",
     "exception": false,
     "start_time": "2024-12-23T04:45:19.361345",
     "status": "completed"
    },
    "tags": []
   },
   "outputs": [
    {
     "name": "stdout",
     "output_type": "stream",
     "text": [
      "Annual Income         9773\n",
      "Marital Status        3490\n",
      "Occupation           57166\n",
      "Health Score          7447\n",
      "Customer Feedback    12959\n",
      "dtype: int64\n"
     ]
    }
   ],
   "source": [
    "missing_values = df_cleaned.isnull().sum()\n",
    "check_missing = missing_values[missing_values > 0]\n",
    "print(check_missing)"
   ]
  },
  {
   "cell_type": "code",
   "execution_count": 11,
   "id": "5a6b247a",
   "metadata": {
    "execution": {
     "iopub.execute_input": "2024-12-23T04:45:19.491999Z",
     "iopub.status.busy": "2024-12-23T04:45:19.491489Z",
     "iopub.status.idle": "2024-12-23T04:45:19.495816Z",
     "shell.execute_reply": "2024-12-23T04:45:19.494872Z"
    },
    "papermill": {
     "duration": 0.013323,
     "end_time": "2024-12-23T04:45:19.497402",
     "exception": false,
     "start_time": "2024-12-23T04:45:19.484079",
     "status": "completed"
    },
    "tags": []
   },
   "outputs": [],
   "source": [
    "mode_imputation_cols=['Annual Income','Health Score']"
   ]
  },
  {
   "cell_type": "code",
   "execution_count": 12,
   "id": "7a2c176f",
   "metadata": {
    "execution": {
     "iopub.execute_input": "2024-12-23T04:45:19.509712Z",
     "iopub.status.busy": "2024-12-23T04:45:19.509380Z",
     "iopub.status.idle": "2024-12-23T04:45:19.577241Z",
     "shell.execute_reply": "2024-12-23T04:45:19.576157Z"
    },
    "papermill": {
     "duration": 0.076391,
     "end_time": "2024-12-23T04:45:19.579499",
     "exception": false,
     "start_time": "2024-12-23T04:45:19.503108",
     "status": "completed"
    },
    "tags": []
   },
   "outputs": [
    {
     "name": "stdout",
     "output_type": "stream",
     "text": [
      "         Age  Gender  Annual Income Marital Status  Number of Dependents  \\\n",
      "2       32.0  Female        30154.0       Divorced                   3.0   \n",
      "3       60.0  Female        48371.0       Divorced                   0.0   \n",
      "5       38.0    Male        31769.0        Married                   1.0   \n",
      "6       56.0  Female        26209.0         Single                   1.0   \n",
      "7       36.0    Male         8762.0         Single                   3.0   \n",
      "...      ...     ...            ...            ...                   ...   \n",
      "278851  25.0  Female         4630.0       Divorced                   4.0   \n",
      "278852  47.0  Female        14001.0         Single                   0.0   \n",
      "278853  28.0  Female        74931.0        Married                   0.0   \n",
      "278854  63.0    Male        34311.0       Divorced                   0.0   \n",
      "278855  53.0    Male        22594.0       Divorced                   4.0   \n",
      "\n",
      "       Education Level     Occupation  Health Score  Location    Policy Type  \\\n",
      "2           Bachelor's            NaN     14.714909  Suburban  Comprehensive   \n",
      "3                  PhD  Self-Employed     25.346926     Rural  Comprehensive   \n",
      "5           Bachelor's       Employed     14.736611     Rural  Comprehensive   \n",
      "6             Master's       Employed     33.238300     Urban        Premium   \n",
      "7           Bachelor's            NaN     13.887880     Urban        Premium   \n",
      "...                ...            ...           ...       ...            ...   \n",
      "278851             PhD            NaN     18.764947     Rural        Premium   \n",
      "278852      Bachelor's     Unemployed     16.243456  Suburban        Premium   \n",
      "278853             PhD     Unemployed     25.658908     Urban          Basic   \n",
      "278854        Master's       Employed     28.778124     Urban        Premium   \n",
      "278855        Master's            NaN     24.455533  Suburban        Premium   \n",
      "\n",
      "        Previous Claims  Vehicle Age  Credit Score  Insurance Duration  \\\n",
      "2                   2.0           16         652.0                   8   \n",
      "3                   1.0           11         330.0                   7   \n",
      "5                   1.0            9         521.0                   7   \n",
      "6                   0.0           10         424.0                   5   \n",
      "7                   1.0           15         641.0                   9   \n",
      "...                 ...          ...           ...                 ...   \n",
      "278851              0.0           13         335.0                   7   \n",
      "278852              1.0            8         751.0                   3   \n",
      "278853              2.0            2         436.0                   5   \n",
      "278854              1.0           19         345.0                   7   \n",
      "278855              2.0            2         500.0                   8   \n",
      "\n",
      "        Premium Amount           Policy Start Date Customer Feedback  \\\n",
      "2                849.0  2023-11-26 15:21:39.078837              Poor   \n",
      "3                927.0  2023-02-27 15:21:39.078837              Poor   \n",
      "5               4016.0  2020-09-16 15:21:39.078837              Poor   \n",
      "6                828.0  2021-03-29 15:21:39.078837           Average   \n",
      "7               1678.0  2022-12-21 15:21:39.078837           Average   \n",
      "...                ...                         ...               ...   \n",
      "278851           508.0  2022-02-07 15:21:39.291118              Poor   \n",
      "278852           823.0  2021-10-07 15:21:39.291118              Poor   \n",
      "278853           799.0  2020-10-26 15:21:39.291118              Poor   \n",
      "278854           466.0  2023-08-14 15:21:39.291118           Average   \n",
      "278855           367.0  2022-04-26 15:21:39.291118               NaN   \n",
      "\n",
      "       Smoking Status Exercise Frequency Property Type  \n",
      "2                  No            Monthly         House  \n",
      "3                  No             Rarely         Condo  \n",
      "5                 Yes              Daily         House  \n",
      "6                 Yes            Monthly         Condo  \n",
      "7                 Yes             Weekly         Condo  \n",
      "...               ...                ...           ...  \n",
      "278851            Yes             Rarely     Apartment  \n",
      "278852             No             Rarely         Condo  \n",
      "278853            Yes             Rarely     Apartment  \n",
      "278854             No            Monthly         Condo  \n",
      "278855            Yes              Daily     Apartment  \n",
      "\n",
      "[196153 rows x 20 columns]\n"
     ]
    },
    {
     "name": "stderr",
     "output_type": "stream",
     "text": [
      "<ipython-input-12-3e9759c0bb16>:7: SettingWithCopyWarning: \n",
      "A value is trying to be set on a copy of a slice from a DataFrame.\n",
      "Try using .loc[row_indexer,col_indexer] = value instead\n",
      "\n",
      "See the caveats in the documentation: https://pandas.pydata.org/pandas-docs/stable/user_guide/indexing.html#returning-a-view-versus-a-copy\n",
      "  df_cleaned[mode_imputation_cols]= imputer.fit_transform(df_cleaned[mode_imputation_cols])\n"
     ]
    }
   ],
   "source": [
    "import numpy as np\n",
    "import pandas as pd\n",
    "from sklearn.impute import SimpleImputer\n",
    "\n",
    "imputer = SimpleImputer(strategy='most_frequent')\n",
    "\n",
    "df_cleaned[mode_imputation_cols]= imputer.fit_transform(df_cleaned[mode_imputation_cols])\n",
    "print(df_cleaned)\n"
   ]
  },
  {
   "cell_type": "code",
   "execution_count": 13,
   "id": "bb16a4e2",
   "metadata": {
    "execution": {
     "iopub.execute_input": "2024-12-23T04:45:19.592363Z",
     "iopub.status.busy": "2024-12-23T04:45:19.592035Z",
     "iopub.status.idle": "2024-12-23T04:45:19.700783Z",
     "shell.execute_reply": "2024-12-23T04:45:19.699460Z"
    },
    "papermill": {
     "duration": 0.11754,
     "end_time": "2024-12-23T04:45:19.702867",
     "exception": false,
     "start_time": "2024-12-23T04:45:19.585327",
     "status": "completed"
    },
    "tags": []
   },
   "outputs": [
    {
     "name": "stdout",
     "output_type": "stream",
     "text": [
      "Marital Status        3490\n",
      "Occupation           57166\n",
      "Customer Feedback    12959\n",
      "dtype: int64\n"
     ]
    }
   ],
   "source": [
    "missing_values = df_cleaned.isnull().sum()\n",
    "check_missing = missing_values[missing_values > 0]\n",
    "print(check_missing)"
   ]
  },
  {
   "cell_type": "code",
   "execution_count": 14,
   "id": "a10cd0d3",
   "metadata": {
    "execution": {
     "iopub.execute_input": "2024-12-23T04:45:19.716124Z",
     "iopub.status.busy": "2024-12-23T04:45:19.715767Z",
     "iopub.status.idle": "2024-12-23T04:45:19.719961Z",
     "shell.execute_reply": "2024-12-23T04:45:19.718911Z"
    },
    "papermill": {
     "duration": 0.012495,
     "end_time": "2024-12-23T04:45:19.721624",
     "exception": false,
     "start_time": "2024-12-23T04:45:19.709129",
     "status": "completed"
    },
    "tags": []
   },
   "outputs": [],
   "source": [
    "mode_imputation_cols=['Marital Status','Occupation']"
   ]
  },
  {
   "cell_type": "code",
   "execution_count": null,
   "id": "490cc087",
   "metadata": {
    "papermill": {
     "duration": 0.005337,
     "end_time": "2024-12-23T04:45:19.733034",
     "exception": false,
     "start_time": "2024-12-23T04:45:19.727697",
     "status": "completed"
    },
    "tags": []
   },
   "outputs": [],
   "source": []
  },
  {
   "cell_type": "code",
   "execution_count": 15,
   "id": "177b0035",
   "metadata": {
    "execution": {
     "iopub.execute_input": "2024-12-23T04:45:19.746130Z",
     "iopub.status.busy": "2024-12-23T04:45:19.745741Z",
     "iopub.status.idle": "2024-12-23T04:45:19.823494Z",
     "shell.execute_reply": "2024-12-23T04:45:19.821914Z"
    },
    "papermill": {
     "duration": 0.08653,
     "end_time": "2024-12-23T04:45:19.825385",
     "exception": false,
     "start_time": "2024-12-23T04:45:19.738855",
     "status": "completed"
    },
    "tags": []
   },
   "outputs": [
    {
     "name": "stdout",
     "output_type": "stream",
     "text": [
      "         Age  Gender  Annual Income Marital Status  Number of Dependents  \\\n",
      "2       32.0  Female        30154.0       Divorced                   3.0   \n",
      "3       60.0  Female        48371.0       Divorced                   0.0   \n",
      "5       38.0    Male        31769.0        Married                   1.0   \n",
      "6       56.0  Female        26209.0         Single                   1.0   \n",
      "7       36.0    Male         8762.0         Single                   3.0   \n",
      "...      ...     ...            ...            ...                   ...   \n",
      "278851  25.0  Female         4630.0       Divorced                   4.0   \n",
      "278852  47.0  Female        14001.0         Single                   0.0   \n",
      "278853  28.0  Female        74931.0        Married                   0.0   \n",
      "278854  63.0    Male        34311.0       Divorced                   0.0   \n",
      "278855  53.0    Male        22594.0       Divorced                   4.0   \n",
      "\n",
      "       Education Level     Occupation  Health Score  Location    Policy Type  \\\n",
      "2           Bachelor's       Employed     14.714909  Suburban  Comprehensive   \n",
      "3                  PhD  Self-Employed     25.346926     Rural  Comprehensive   \n",
      "5           Bachelor's       Employed     14.736611     Rural  Comprehensive   \n",
      "6             Master's       Employed     33.238300     Urban        Premium   \n",
      "7           Bachelor's       Employed     13.887880     Urban        Premium   \n",
      "...                ...            ...           ...       ...            ...   \n",
      "278851             PhD       Employed     18.764947     Rural        Premium   \n",
      "278852      Bachelor's     Unemployed     16.243456  Suburban        Premium   \n",
      "278853             PhD     Unemployed     25.658908     Urban          Basic   \n",
      "278854        Master's       Employed     28.778124     Urban        Premium   \n",
      "278855        Master's       Employed     24.455533  Suburban        Premium   \n",
      "\n",
      "        Previous Claims  Vehicle Age  Credit Score  Insurance Duration  \\\n",
      "2                   2.0           16         652.0                   8   \n",
      "3                   1.0           11         330.0                   7   \n",
      "5                   1.0            9         521.0                   7   \n",
      "6                   0.0           10         424.0                   5   \n",
      "7                   1.0           15         641.0                   9   \n",
      "...                 ...          ...           ...                 ...   \n",
      "278851              0.0           13         335.0                   7   \n",
      "278852              1.0            8         751.0                   3   \n",
      "278853              2.0            2         436.0                   5   \n",
      "278854              1.0           19         345.0                   7   \n",
      "278855              2.0            2         500.0                   8   \n",
      "\n",
      "        Premium Amount           Policy Start Date Customer Feedback  \\\n",
      "2                849.0  2023-11-26 15:21:39.078837              Poor   \n",
      "3                927.0  2023-02-27 15:21:39.078837              Poor   \n",
      "5               4016.0  2020-09-16 15:21:39.078837              Poor   \n",
      "6                828.0  2021-03-29 15:21:39.078837           Average   \n",
      "7               1678.0  2022-12-21 15:21:39.078837           Average   \n",
      "...                ...                         ...               ...   \n",
      "278851           508.0  2022-02-07 15:21:39.291118              Poor   \n",
      "278852           823.0  2021-10-07 15:21:39.291118              Poor   \n",
      "278853           799.0  2020-10-26 15:21:39.291118              Poor   \n",
      "278854           466.0  2023-08-14 15:21:39.291118           Average   \n",
      "278855           367.0  2022-04-26 15:21:39.291118               NaN   \n",
      "\n",
      "       Smoking Status Exercise Frequency Property Type  \n",
      "2                  No            Monthly         House  \n",
      "3                  No             Rarely         Condo  \n",
      "5                 Yes              Daily         House  \n",
      "6                 Yes            Monthly         Condo  \n",
      "7                 Yes             Weekly         Condo  \n",
      "...               ...                ...           ...  \n",
      "278851            Yes             Rarely     Apartment  \n",
      "278852             No             Rarely         Condo  \n",
      "278853            Yes             Rarely     Apartment  \n",
      "278854             No            Monthly         Condo  \n",
      "278855            Yes              Daily     Apartment  \n",
      "\n",
      "[196153 rows x 20 columns]\n"
     ]
    },
    {
     "name": "stderr",
     "output_type": "stream",
     "text": [
      "<ipython-input-15-3e9759c0bb16>:7: SettingWithCopyWarning: \n",
      "A value is trying to be set on a copy of a slice from a DataFrame.\n",
      "Try using .loc[row_indexer,col_indexer] = value instead\n",
      "\n",
      "See the caveats in the documentation: https://pandas.pydata.org/pandas-docs/stable/user_guide/indexing.html#returning-a-view-versus-a-copy\n",
      "  df_cleaned[mode_imputation_cols]= imputer.fit_transform(df_cleaned[mode_imputation_cols])\n"
     ]
    }
   ],
   "source": [
    "import numpy as np\n",
    "import pandas as pd\n",
    "from sklearn.impute import SimpleImputer\n",
    "\n",
    "imputer = SimpleImputer(strategy='most_frequent')\n",
    "\n",
    "df_cleaned[mode_imputation_cols]= imputer.fit_transform(df_cleaned[mode_imputation_cols])\n",
    "print(df_cleaned)\n"
   ]
  },
  {
   "cell_type": "code",
   "execution_count": 16,
   "id": "4381aab4",
   "metadata": {
    "execution": {
     "iopub.execute_input": "2024-12-23T04:45:19.839110Z",
     "iopub.status.busy": "2024-12-23T04:45:19.838726Z",
     "iopub.status.idle": "2024-12-23T04:45:19.945605Z",
     "shell.execute_reply": "2024-12-23T04:45:19.944378Z"
    },
    "papermill": {
     "duration": 0.115651,
     "end_time": "2024-12-23T04:45:19.947226",
     "exception": false,
     "start_time": "2024-12-23T04:45:19.831575",
     "status": "completed"
    },
    "tags": []
   },
   "outputs": [
    {
     "name": "stdout",
     "output_type": "stream",
     "text": [
      "Customer Feedback    12959\n",
      "dtype: int64\n"
     ]
    }
   ],
   "source": [
    "missing_values = df_cleaned.isnull().sum()\n",
    "check_missing = missing_values[missing_values > 0]\n",
    "print(check_missing)"
   ]
  },
  {
   "cell_type": "code",
   "execution_count": 17,
   "id": "23fe8391",
   "metadata": {
    "execution": {
     "iopub.execute_input": "2024-12-23T04:45:19.960733Z",
     "iopub.status.busy": "2024-12-23T04:45:19.960362Z",
     "iopub.status.idle": "2024-12-23T04:45:19.979044Z",
     "shell.execute_reply": "2024-12-23T04:45:19.977733Z"
    },
    "papermill": {
     "duration": 0.027548,
     "end_time": "2024-12-23T04:45:19.980919",
     "exception": false,
     "start_time": "2024-12-23T04:45:19.953371",
     "status": "completed"
    },
    "tags": []
   },
   "outputs": [
    {
     "name": "stderr",
     "output_type": "stream",
     "text": [
      "<ipython-input-17-1308beb94693>:1: SettingWithCopyWarning: \n",
      "A value is trying to be set on a copy of a slice from a DataFrame.\n",
      "Try using .loc[row_indexer,col_indexer] = value instead\n",
      "\n",
      "See the caveats in the documentation: https://pandas.pydata.org/pandas-docs/stable/user_guide/indexing.html#returning-a-view-versus-a-copy\n",
      "  df_cleaned['Customer Feedback']= df_cleaned['Customer Feedback'].fillna('')\n"
     ]
    }
   ],
   "source": [
    "df_cleaned['Customer Feedback']= df_cleaned['Customer Feedback'].fillna('')"
   ]
  },
  {
   "cell_type": "code",
   "execution_count": 18,
   "id": "56167774",
   "metadata": {
    "execution": {
     "iopub.execute_input": "2024-12-23T04:45:19.995399Z",
     "iopub.status.busy": "2024-12-23T04:45:19.995061Z",
     "iopub.status.idle": "2024-12-23T04:45:20.104113Z",
     "shell.execute_reply": "2024-12-23T04:45:20.103037Z"
    },
    "papermill": {
     "duration": 0.118108,
     "end_time": "2024-12-23T04:45:20.105870",
     "exception": false,
     "start_time": "2024-12-23T04:45:19.987762",
     "status": "completed"
    },
    "tags": []
   },
   "outputs": [
    {
     "name": "stdout",
     "output_type": "stream",
     "text": [
      "Series([], dtype: int64)\n"
     ]
    }
   ],
   "source": [
    "missing_values = df_cleaned.isnull().sum()\n",
    "check_missing = missing_values[missing_values > 0]\n",
    "print(check_missing)"
   ]
  },
  {
   "cell_type": "code",
   "execution_count": 19,
   "id": "28eceb52",
   "metadata": {
    "execution": {
     "iopub.execute_input": "2024-12-23T04:45:20.119787Z",
     "iopub.status.busy": "2024-12-23T04:45:20.119387Z",
     "iopub.status.idle": "2024-12-23T04:45:20.126305Z",
     "shell.execute_reply": "2024-12-23T04:45:20.125445Z"
    },
    "papermill": {
     "duration": 0.015481,
     "end_time": "2024-12-23T04:45:20.127728",
     "exception": false,
     "start_time": "2024-12-23T04:45:20.112247",
     "status": "completed"
    },
    "tags": []
   },
   "outputs": [
    {
     "data": {
      "text/plain": [
       "Age                     float64\n",
       "Gender                   object\n",
       "Annual Income           float64\n",
       "Marital Status           object\n",
       "Number of Dependents    float64\n",
       "Education Level          object\n",
       "Occupation               object\n",
       "Health Score            float64\n",
       "Location                 object\n",
       "Policy Type              object\n",
       "Previous Claims         float64\n",
       "Vehicle Age               int64\n",
       "Credit Score            float64\n",
       "Insurance Duration        int64\n",
       "Premium Amount          float64\n",
       "Policy Start Date        object\n",
       "Customer Feedback        object\n",
       "Smoking Status           object\n",
       "Exercise Frequency       object\n",
       "Property Type            object\n",
       "dtype: object"
      ]
     },
     "execution_count": 19,
     "metadata": {},
     "output_type": "execute_result"
    }
   ],
   "source": [
    "df_cleaned.dtypes"
   ]
  },
  {
   "cell_type": "markdown",
   "id": "961833f0",
   "metadata": {
    "papermill": {
     "duration": 0.005953,
     "end_time": "2024-12-23T04:45:20.140186",
     "exception": false,
     "start_time": "2024-12-23T04:45:20.134233",
     "status": "completed"
    },
    "tags": []
   },
   "source": [
    "# One Hot encoding"
   ]
  },
  {
   "cell_type": "code",
   "execution_count": 20,
   "id": "5eb22e42",
   "metadata": {
    "execution": {
     "iopub.execute_input": "2024-12-23T04:45:20.153859Z",
     "iopub.status.busy": "2024-12-23T04:45:20.153471Z",
     "iopub.status.idle": "2024-12-23T04:45:20.941422Z",
     "shell.execute_reply": "2024-12-23T04:45:20.939958Z"
    },
    "papermill": {
     "duration": 0.796987,
     "end_time": "2024-12-23T04:45:20.943309",
     "exception": false,
     "start_time": "2024-12-23T04:45:20.146322",
     "status": "completed"
    },
    "tags": []
   },
   "outputs": [
    {
     "name": "stderr",
     "output_type": "stream",
     "text": [
      "/usr/local/lib/python3.10/dist-packages/sklearn/preprocessing/_encoders.py:868: FutureWarning: `sparse` was renamed to `sparse_output` in version 1.2 and will be removed in 1.4. `sparse_output` is ignored unless you leave `sparse` to its default value.\n",
      "  warnings.warn(\n"
     ]
    },
    {
     "name": "stdout",
     "output_type": "stream",
     "text": [
      "         Age  Annual Income  Number of Dependents  Health Score  \\\n",
      "2       32.0        30154.0                   3.0     14.714909   \n",
      "3       60.0        48371.0                   0.0     25.346926   \n",
      "5       38.0        31769.0                   1.0     14.736611   \n",
      "6       56.0        26209.0                   1.0     33.238300   \n",
      "7       36.0         8762.0                   3.0     13.887880   \n",
      "...      ...            ...                   ...           ...   \n",
      "196137   NaN            NaN                   NaN           NaN   \n",
      "196138   NaN            NaN                   NaN           NaN   \n",
      "196139   NaN            NaN                   NaN           NaN   \n",
      "196142   NaN            NaN                   NaN           NaN   \n",
      "196146   NaN            NaN                   NaN           NaN   \n",
      "\n",
      "        Previous Claims  Vehicle Age  Credit Score  Insurance Duration  \\\n",
      "2                   2.0         16.0         652.0                 8.0   \n",
      "3                   1.0         11.0         330.0                 7.0   \n",
      "5                   1.0          9.0         521.0                 7.0   \n",
      "6                   0.0         10.0         424.0                 5.0   \n",
      "7                   1.0         15.0         641.0                 9.0   \n",
      "...                 ...          ...           ...                 ...   \n",
      "196137              NaN          NaN           NaN                 NaN   \n",
      "196138              NaN          NaN           NaN                 NaN   \n",
      "196139              NaN          NaN           NaN                 NaN   \n",
      "196142              NaN          NaN           NaN                 NaN   \n",
      "196146              NaN          NaN           NaN                 NaN   \n",
      "\n",
      "        Premium Amount           Policy Start Date  ...  Smoking Status_No  \\\n",
      "2                849.0  2023-11-26 15:21:39.078837  ...                0.0   \n",
      "3                927.0  2023-02-27 15:21:39.078837  ...                0.0   \n",
      "5               4016.0  2020-09-16 15:21:39.078837  ...                1.0   \n",
      "6                828.0  2021-03-29 15:21:39.078837  ...                1.0   \n",
      "7               1678.0  2022-12-21 15:21:39.078837  ...                0.0   \n",
      "...                ...                         ...  ...                ...   \n",
      "196137             NaN                         NaN  ...                1.0   \n",
      "196138             NaN                         NaN  ...                0.0   \n",
      "196139             NaN                         NaN  ...                0.0   \n",
      "196142             NaN                         NaN  ...                0.0   \n",
      "196146             NaN                         NaN  ...                0.0   \n",
      "\n",
      "        Smoking Status_Yes  Policy Type_Basic  Policy Type_Comprehensive  \\\n",
      "2                      1.0                0.0                        1.0   \n",
      "3                      1.0                0.0                        0.0   \n",
      "5                      0.0                1.0                        0.0   \n",
      "6                      0.0                0.0                        1.0   \n",
      "7                      1.0                0.0                        0.0   \n",
      "...                    ...                ...                        ...   \n",
      "196137                 0.0                0.0                        0.0   \n",
      "196138                 1.0                0.0                        0.0   \n",
      "196139                 1.0                0.0                        0.0   \n",
      "196142                 1.0                0.0                        0.0   \n",
      "196146                 1.0                0.0                        0.0   \n",
      "\n",
      "        Policy Type_Premium  Gender_Female  Gender_Male  Location_Rural  \\\n",
      "2                       0.0            0.0          1.0             1.0   \n",
      "3                       1.0            1.0          0.0             0.0   \n",
      "5                       0.0            0.0          1.0             1.0   \n",
      "6                       0.0            0.0          1.0             0.0   \n",
      "7                       1.0            1.0          0.0             0.0   \n",
      "...                     ...            ...          ...             ...   \n",
      "196137                  1.0            0.0          1.0             0.0   \n",
      "196138                  1.0            0.0          1.0             0.0   \n",
      "196139                  1.0            1.0          0.0             0.0   \n",
      "196142                  1.0            1.0          0.0             0.0   \n",
      "196146                  1.0            0.0          1.0             0.0   \n",
      "\n",
      "        Location_Suburban  Location_Urban  \n",
      "2                     0.0             0.0  \n",
      "3                     0.0             1.0  \n",
      "5                     0.0             0.0  \n",
      "6                     0.0             1.0  \n",
      "7                     1.0             0.0  \n",
      "...                   ...             ...  \n",
      "196137                0.0             1.0  \n",
      "196138                1.0             0.0  \n",
      "196139                1.0             0.0  \n",
      "196142                0.0             1.0  \n",
      "196146                0.0             1.0  \n",
      "\n",
      "[254369 rows x 41 columns]\n"
     ]
    }
   ],
   "source": [
    "from sklearn.preprocessing import OneHotEncoder\n",
    "encoding_cols=['Customer Feedback','Occupation','Education Level','Marital Status',\n",
    "               'Property Type','Exercise Frequency','Smoking Status','Policy Type','Gender','Location']\n",
    "\n",
    "encoder = OneHotEncoder(sparse=False)  # Use sparse=True for sparse matrix output\n",
    "\n",
    "# Fit and transform the data\n",
    "encoded_array = encoder.fit_transform(df_cleaned[encoding_cols])\n",
    "\n",
    "# Convert the encoded array to a DataFrame with column names\n",
    "encoded_df = pd.DataFrame(encoded_array, columns=encoder.get_feature_names_out(encoding_cols))\n",
    "\n",
    "# Drop the original categorical columns and concatenate with the encoded DataFrame\n",
    "df_cleaned = pd.concat([df_cleaned.drop(columns=encoding_cols), encoded_df], axis=1)\n",
    "\n",
    "print(df_cleaned)\n"
   ]
  }
 ],
 "metadata": {
  "kaggle": {
   "accelerator": "none",
   "dataSources": [
    {
     "datasetId": 5547076,
     "sourceId": 9178166,
     "sourceType": "datasetVersion"
    }
   ],
   "dockerImageVersionId": 30822,
   "isGpuEnabled": false,
   "isInternetEnabled": false,
   "language": "python",
   "sourceType": "notebook"
  },
  "kernelspec": {
   "display_name": "Python 3",
   "language": "python",
   "name": "python3"
  },
  "language_info": {
   "codemirror_mode": {
    "name": "ipython",
    "version": 3
   },
   "file_extension": ".py",
   "mimetype": "text/x-python",
   "name": "python",
   "nbconvert_exporter": "python",
   "pygments_lexer": "ipython3",
   "version": "3.10.12"
  },
  "papermill": {
   "default_parameters": {},
   "duration": 9.482891,
   "end_time": "2024-12-23T04:45:21.669783",
   "environment_variables": {},
   "exception": null,
   "input_path": "__notebook__.ipynb",
   "output_path": "__notebook__.ipynb",
   "parameters": {},
   "start_time": "2024-12-23T04:45:12.186892",
   "version": "2.6.0"
  }
 },
 "nbformat": 4,
 "nbformat_minor": 5
}
