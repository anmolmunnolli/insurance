{
 "cells": [
  {
   "cell_type": "markdown",
   "id": "0af7d8bc",
   "metadata": {
    "papermill": {
     "duration": 0.002776,
     "end_time": "2024-12-23T02:15:02.835257",
     "exception": false,
     "start_time": "2024-12-23T02:15:02.832481",
     "status": "completed"
    },
    "tags": []
   },
   "source": [
    "# Submission - Inquisitive_Turtles"
   ]
  },
  {
   "cell_type": "code",
   "execution_count": 1,
   "id": "f26db8f7",
   "metadata": {
    "execution": {
     "iopub.execute_input": "2024-12-23T02:15:02.841573Z",
     "iopub.status.busy": "2024-12-23T02:15:02.841229Z",
     "iopub.status.idle": "2024-12-23T02:15:03.602964Z",
     "shell.execute_reply": "2024-12-23T02:15:03.601134Z"
    },
    "papermill": {
     "duration": 0.767298,
     "end_time": "2024-12-23T02:15:03.605164",
     "exception": false,
     "start_time": "2024-12-23T02:15:02.837866",
     "status": "completed"
    },
    "tags": []
   },
   "outputs": [
    {
     "name": "stdout",
     "output_type": "stream",
     "text": [
      "Path to dataset files: /kaggle/input/insurance-premium-prediction\n"
     ]
    }
   ],
   "source": [
    "import kagglehub\n",
    "path = kagglehub.dataset_download(\"schran/insurance-premium-prediction\")\n",
    "print(\"Path to dataset files:\", path)"
   ]
  },
  {
   "cell_type": "code",
   "execution_count": 2,
   "id": "1294a09f",
   "metadata": {
    "execution": {
     "iopub.execute_input": "2024-12-23T02:15:03.611391Z",
     "iopub.status.busy": "2024-12-23T02:15:03.610920Z",
     "iopub.status.idle": "2024-12-23T02:15:05.678933Z",
     "shell.execute_reply": "2024-12-23T02:15:05.677406Z"
    },
    "papermill": {
     "duration": 2.073285,
     "end_time": "2024-12-23T02:15:05.680868",
     "exception": false,
     "start_time": "2024-12-23T02:15:03.607583",
     "status": "completed"
    },
    "tags": []
   },
   "outputs": [
    {
     "name": "stdout",
     "output_type": "stream",
     "text": [
      "Index(['Age', 'Gender', 'Annual Income', 'Marital Status',\n",
      "       'Number of Dependents', 'Education Level', 'Occupation', 'Health Score',\n",
      "       'Location', 'Policy Type', 'Previous Claims', 'Vehicle Age',\n",
      "       'Credit Score', 'Insurance Duration', 'Premium Amount',\n",
      "       'Policy Start Date', 'Customer Feedback', 'Smoking Status',\n",
      "       'Exercise Frequency', 'Property Type'],\n",
      "      dtype='object') Age                     float64\n",
      "Gender                   object\n",
      "Annual Income           float64\n",
      "Marital Status           object\n",
      "Number of Dependents    float64\n",
      "Education Level          object\n",
      "Occupation               object\n",
      "Health Score            float64\n",
      "Location                 object\n",
      "Policy Type              object\n",
      "Previous Claims         float64\n",
      "Vehicle Age               int64\n",
      "Credit Score            float64\n",
      "Insurance Duration        int64\n",
      "Premium Amount          float64\n",
      "Policy Start Date        object\n",
      "Customer Feedback        object\n",
      "Smoking Status           object\n",
      "Exercise Frequency       object\n",
      "Property Type            object\n",
      "dtype: object\n"
     ]
    }
   ],
   "source": [
    "import pandas as pd\n",
    "df = pd.read_csv('/kaggle/input/insurance-premium-prediction/Insurance Premium Prediction Dataset.csv')\n",
    "print(df.columns,df.dtypes)"
   ]
  },
  {
   "cell_type": "code",
   "execution_count": 3,
   "id": "791d974a",
   "metadata": {
    "execution": {
     "iopub.execute_input": "2024-12-23T02:15:05.686814Z",
     "iopub.status.busy": "2024-12-23T02:15:05.686459Z",
     "iopub.status.idle": "2024-12-23T02:15:05.871510Z",
     "shell.execute_reply": "2024-12-23T02:15:05.870401Z"
    },
    "papermill": {
     "duration": 0.190062,
     "end_time": "2024-12-23T02:15:05.873373",
     "exception": false,
     "start_time": "2024-12-23T02:15:05.683311",
     "status": "completed"
    },
    "tags": []
   },
   "outputs": [
    {
     "data": {
      "text/html": [
       "<div>\n",
       "<style scoped>\n",
       "    .dataframe tbody tr th:only-of-type {\n",
       "        vertical-align: middle;\n",
       "    }\n",
       "\n",
       "    .dataframe tbody tr th {\n",
       "        vertical-align: top;\n",
       "    }\n",
       "\n",
       "    .dataframe thead th {\n",
       "        text-align: right;\n",
       "    }\n",
       "</style>\n",
       "<table border=\"1\" class=\"dataframe\">\n",
       "  <thead>\n",
       "    <tr style=\"text-align: right;\">\n",
       "      <th></th>\n",
       "      <th>Age</th>\n",
       "      <th>Annual Income</th>\n",
       "      <th>Number of Dependents</th>\n",
       "      <th>Health Score</th>\n",
       "      <th>Previous Claims</th>\n",
       "      <th>Vehicle Age</th>\n",
       "      <th>Credit Score</th>\n",
       "      <th>Insurance Duration</th>\n",
       "      <th>Premium Amount</th>\n",
       "    </tr>\n",
       "  </thead>\n",
       "  <tbody>\n",
       "    <tr>\n",
       "      <th>count</th>\n",
       "      <td>274175.000000</td>\n",
       "      <td>264905.000000</td>\n",
       "      <td>250974.000000</td>\n",
       "      <td>268263.000000</td>\n",
       "      <td>197572.000000</td>\n",
       "      <td>278860.000000</td>\n",
       "      <td>250974.000000</td>\n",
       "      <td>278860.000000</td>\n",
       "      <td>277019.000000</td>\n",
       "    </tr>\n",
       "    <tr>\n",
       "      <th>mean</th>\n",
       "      <td>41.020771</td>\n",
       "      <td>42089.085329</td>\n",
       "      <td>1.998048</td>\n",
       "      <td>28.584290</td>\n",
       "      <td>0.998117</td>\n",
       "      <td>9.520283</td>\n",
       "      <td>574.362049</td>\n",
       "      <td>5.007764</td>\n",
       "      <td>966.118667</td>\n",
       "    </tr>\n",
       "    <tr>\n",
       "      <th>std</th>\n",
       "      <td>13.549683</td>\n",
       "      <td>35444.517255</td>\n",
       "      <td>1.412312</td>\n",
       "      <td>15.966208</td>\n",
       "      <td>1.000795</td>\n",
       "      <td>5.767915</td>\n",
       "      <td>158.792037</td>\n",
       "      <td>2.581349</td>\n",
       "      <td>909.404567</td>\n",
       "    </tr>\n",
       "    <tr>\n",
       "      <th>min</th>\n",
       "      <td>18.000000</td>\n",
       "      <td>0.000000</td>\n",
       "      <td>0.000000</td>\n",
       "      <td>0.035436</td>\n",
       "      <td>0.000000</td>\n",
       "      <td>0.000000</td>\n",
       "      <td>300.000000</td>\n",
       "      <td>1.000000</td>\n",
       "      <td>0.000000</td>\n",
       "    </tr>\n",
       "    <tr>\n",
       "      <th>25%</th>\n",
       "      <td>29.000000</td>\n",
       "      <td>13588.000000</td>\n",
       "      <td>1.000000</td>\n",
       "      <td>16.149890</td>\n",
       "      <td>0.000000</td>\n",
       "      <td>5.000000</td>\n",
       "      <td>437.000000</td>\n",
       "      <td>3.000000</td>\n",
       "      <td>286.000000</td>\n",
       "    </tr>\n",
       "    <tr>\n",
       "      <th>50%</th>\n",
       "      <td>41.000000</td>\n",
       "      <td>32191.000000</td>\n",
       "      <td>2.000000</td>\n",
       "      <td>26.451244</td>\n",
       "      <td>1.000000</td>\n",
       "      <td>10.000000</td>\n",
       "      <td>575.000000</td>\n",
       "      <td>5.000000</td>\n",
       "      <td>688.000000</td>\n",
       "    </tr>\n",
       "    <tr>\n",
       "      <th>75%</th>\n",
       "      <td>53.000000</td>\n",
       "      <td>62164.000000</td>\n",
       "      <td>3.000000</td>\n",
       "      <td>38.966369</td>\n",
       "      <td>2.000000</td>\n",
       "      <td>15.000000</td>\n",
       "      <td>712.000000</td>\n",
       "      <td>7.000000</td>\n",
       "      <td>1367.000000</td>\n",
       "    </tr>\n",
       "    <tr>\n",
       "      <th>max</th>\n",
       "      <td>64.000000</td>\n",
       "      <td>149997.000000</td>\n",
       "      <td>4.000000</td>\n",
       "      <td>93.876090</td>\n",
       "      <td>9.000000</td>\n",
       "      <td>19.000000</td>\n",
       "      <td>849.000000</td>\n",
       "      <td>9.000000</td>\n",
       "      <td>4999.000000</td>\n",
       "    </tr>\n",
       "  </tbody>\n",
       "</table>\n",
       "</div>"
      ],
      "text/plain": [
       "                 Age  Annual Income  Number of Dependents   Health Score  \\\n",
       "count  274175.000000  264905.000000         250974.000000  268263.000000   \n",
       "mean       41.020771   42089.085329              1.998048      28.584290   \n",
       "std        13.549683   35444.517255              1.412312      15.966208   \n",
       "min        18.000000       0.000000              0.000000       0.035436   \n",
       "25%        29.000000   13588.000000              1.000000      16.149890   \n",
       "50%        41.000000   32191.000000              2.000000      26.451244   \n",
       "75%        53.000000   62164.000000              3.000000      38.966369   \n",
       "max        64.000000  149997.000000              4.000000      93.876090   \n",
       "\n",
       "       Previous Claims    Vehicle Age   Credit Score  Insurance Duration  \\\n",
       "count    197572.000000  278860.000000  250974.000000       278860.000000   \n",
       "mean          0.998117       9.520283     574.362049            5.007764   \n",
       "std           1.000795       5.767915     158.792037            2.581349   \n",
       "min           0.000000       0.000000     300.000000            1.000000   \n",
       "25%           0.000000       5.000000     437.000000            3.000000   \n",
       "50%           1.000000      10.000000     575.000000            5.000000   \n",
       "75%           2.000000      15.000000     712.000000            7.000000   \n",
       "max           9.000000      19.000000     849.000000            9.000000   \n",
       "\n",
       "       Premium Amount  \n",
       "count   277019.000000  \n",
       "mean       966.118667  \n",
       "std        909.404567  \n",
       "min          0.000000  \n",
       "25%        286.000000  \n",
       "50%        688.000000  \n",
       "75%       1367.000000  \n",
       "max       4999.000000  "
      ]
     },
     "execution_count": 3,
     "metadata": {},
     "output_type": "execute_result"
    }
   ],
   "source": [
    "df.describe()"
   ]
  },
  {
   "cell_type": "code",
   "execution_count": 4,
   "id": "07c7655a",
   "metadata": {
    "execution": {
     "iopub.execute_input": "2024-12-23T02:15:05.879851Z",
     "iopub.status.busy": "2024-12-23T02:15:05.879523Z",
     "iopub.status.idle": "2024-12-23T02:15:06.028206Z",
     "shell.execute_reply": "2024-12-23T02:15:06.026733Z"
    },
    "papermill": {
     "duration": 0.154019,
     "end_time": "2024-12-23T02:15:06.030200",
     "exception": false,
     "start_time": "2024-12-23T02:15:05.876181",
     "status": "completed"
    },
    "tags": []
   },
   "outputs": [
    {
     "name": "stdout",
     "output_type": "stream",
     "text": [
      "Age                      4685\n",
      "Annual Income           13955\n",
      "Marital Status           5019\n",
      "Number of Dependents    27886\n",
      "Occupation              81288\n",
      "Health Score            10597\n",
      "Previous Claims         81288\n",
      "Credit Score            27886\n",
      "Premium Amount           1841\n",
      "Customer Feedback       18349\n",
      "dtype: int64\n"
     ]
    }
   ],
   "source": [
    "missing_values = df.isnull().sum()\n",
    "cols_with_missing = missing_values[missing_values > 0]\n",
    "print(cols_with_missing)"
   ]
  },
  {
   "cell_type": "code",
   "execution_count": null,
   "id": "7a5cae86",
   "metadata": {
    "papermill": {
     "duration": 0.002304,
     "end_time": "2024-12-23T02:15:06.035242",
     "exception": false,
     "start_time": "2024-12-23T02:15:06.032938",
     "status": "completed"
    },
    "tags": []
   },
   "outputs": [],
   "source": []
  }
 ],
 "metadata": {
  "kaggle": {
   "accelerator": "none",
   "dataSources": [
    {
     "datasetId": 5547076,
     "sourceId": 9178166,
     "sourceType": "datasetVersion"
    }
   ],
   "dockerImageVersionId": 30822,
   "isGpuEnabled": false,
   "isInternetEnabled": true,
   "language": "python",
   "sourceType": "notebook"
  },
  "kernelspec": {
   "display_name": "Python 3",
   "language": "python",
   "name": "python3"
  },
  "language_info": {
   "codemirror_mode": {
    "name": "ipython",
    "version": 3
   },
   "file_extension": ".py",
   "mimetype": "text/x-python",
   "name": "python",
   "nbconvert_exporter": "python",
   "pygments_lexer": "ipython3",
   "version": "3.10.12"
  },
  "papermill": {
   "default_parameters": {},
   "duration": 6.195222,
   "end_time": "2024-12-23T02:15:06.658433",
   "environment_variables": {},
   "exception": null,
   "input_path": "__notebook__.ipynb",
   "output_path": "__notebook__.ipynb",
   "parameters": {},
   "start_time": "2024-12-23T02:15:00.463211",
   "version": "2.6.0"
  }
 },
 "nbformat": 4,
 "nbformat_minor": 5
}
